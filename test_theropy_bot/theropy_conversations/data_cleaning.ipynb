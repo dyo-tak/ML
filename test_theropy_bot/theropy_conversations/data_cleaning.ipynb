{
 "cells": [
  {
   "cell_type": "code",
   "execution_count": 4,
   "metadata": {},
   "outputs": [],
   "source": [
    "import json\n",
    "import pandas as pd"
   ]
  },
  {
   "cell_type": "code",
   "execution_count": 5,
   "metadata": {},
   "outputs": [],
   "source": [
    "# Load the original JSON file\n",
    "with open('ESConv.json', 'r') as f:\n",
    "    data = json.load(f)\n",
    "\n",
    "# Create a new list of objects with only the \"speaker\" and \"content\" fields\n",
    "new_data = []\n",
    "for item in data:\n",
    "    dialog = item['dialog']\n",
    "    new_dialog = []\n",
    "    for d in dialog:\n",
    "        new_dialog.append({'speaker': d['speaker'], 'content': d['content']})\n",
    "    new_item = {'dialog': new_dialog}\n",
    "    new_data.append(new_item)\n",
    "\n",
    "# Save the new JSON file\n",
    "with open('new_file.json', 'w') as f:\n",
    "    json.dump(new_data, f, indent=2)"
   ]
  },
  {
   "cell_type": "code",
   "execution_count": 6,
   "metadata": {},
   "outputs": [],
   "source": [
    "with open('new_file.json', 'r') as f:\n",
    "    data = json.load(f)\n",
    "\n",
    "# Create a new list of objects with only the \"speaker\" and \"content\" fields\n",
    "i = 1\n",
    "new_data = []\n",
    "for item in data:\n",
    "    dialog = item['dialog']\n",
    "    new_dialog = []\n",
    "    for d in dialog:\n",
    "        new_dialog.append({'speaker': d['speaker'], 'content': d['content'], 'id': f\"L{i}\"})\n",
    "        i += 1\n",
    "    new_item = {'dialog': new_dialog}\n",
    "    new_data.append(new_item)\n",
    "\n",
    "# Save the new JSON file\n",
    "with open('new_file2.json', 'w') as f:\n",
    "    json.dump(new_data, f, indent=2)"
   ]
  },
  {
   "cell_type": "code",
   "execution_count": 7,
   "metadata": {},
   "outputs": [],
   "source": [
    "with open('new_file.json', 'r') as f:\n",
    "    data = json.load(f)\n",
    "\n",
    "seeker = []\n",
    "supporter = []\n",
    "\n",
    "\n",
    "\n",
    "for i in range(0, 1000):\n",
    "    count1 = 0\n",
    "    count2 = 0\n",
    "    for dialog in data[i][\"dialog\"]:\n",
    "        if dialog[\"speaker\"] == \"seeker\":\n",
    "            seeker.append({dialog[\"content\"]})\n",
    "            count1 += 1\n",
    "        if dialog[\"speaker\"] == \"supporter\":\n",
    "            supporter.append({dialog[\"content\"]})\n",
    "            count2 += 1\n",
    "\n",
    "    if count1 > count2:\n",
    "        supporter.append({\"<pad>\"})\n",
    "\n",
    "with open('seeker.txt', 'w') as f:\n",
    "    f.write(str(seeker))\n",
    "\n",
    "with open('supporter.txt', 'w') as f:\n",
    "    f.write(str(supporter))\n"
   ]
  },
  {
   "cell_type": "code",
   "execution_count": null,
   "metadata": {},
   "outputs": [],
   "source": [
    "\n",
    "# Load the JSON data from a file\n",
    "with open('new_file.json', 'r') as f:\n",
    "    data = json.load(f)\n",
    "\n",
    "# Convert the dialog data to a list of strings\n",
    "dialog_lines = []\n",
    "for dialog in data:\n",
    "    for line in dialog['dialog']:\n",
    "        dialog_lines.append(line['content'].strip())\n",
    "\n",
    "# Write the dialog lines to the first text file\n",
    "with open('dialog.txt', 'w') as f:\n",
    "    for i, line in enumerate(dialog_lines):\n",
    "        f.write(f'L{i+1} ++ {line}\\n')\n",
    "\n"
   ]
  },
  {
   "cell_type": "code",
   "execution_count": null,
   "metadata": {},
   "outputs": [],
   "source": [
    "# Load the JSON data from a file\n",
    "with open('new_file2.json', 'r') as f:\n",
    "    data = json.load(f)\n",
    "\n",
    "\n",
    "convs = [[]]\n",
    "\n",
    "for dialog in data:\n",
    "    conv = []\n",
    "    for line in dialog['dialog']:\n",
    "        conv.append(line['id'])\n",
    "    convs.append(conv)\n",
    "\n",
    "with open('conv.txt', 'w') as f:\n",
    "    for i in convs:\n",
    "        f.write(str(i) + '\\n')"
   ]
  }
 ],
 "metadata": {
  "kernelspec": {
   "display_name": "base",
   "language": "python",
   "name": "python3"
  },
  "language_info": {
   "codemirror_mode": {
    "name": "ipython",
    "version": 3
   },
   "file_extension": ".py",
   "mimetype": "text/x-python",
   "name": "python",
   "nbconvert_exporter": "python",
   "pygments_lexer": "ipython3",
   "version": "3.9.16"
  },
  "orig_nbformat": 4,
  "vscode": {
   "interpreter": {
    "hash": "32e3ff221e6a5834a795f424eadbb9ac5cede9e07e48bdda432a4ec466d810f6"
   }
  }
 },
 "nbformat": 4,
 "nbformat_minor": 2
}
